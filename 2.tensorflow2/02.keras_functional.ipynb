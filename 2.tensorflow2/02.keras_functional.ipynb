{
 "cells": [
  {
   "cell_type": "markdown",
   "metadata": {},
   "source": [
    "# 02.Keras Functional of Tensorflow 2.1\n",
    "\n",
    "__author__ = \"Trung Phong Le\"<br>\n",
    "__email__ = \"letrungphong95@gmail.com\"<br>\n",
    "__startDate__ = \"19/01/2020\"<br>\n",
    "__version__ = \"0.0.1\"<br>\n",
    "__status__ = \"Being a Magical Dev\"<br>\n",
    "__maintainer__ = \"Trung Phong Le\""
   ]
  },
  {
   "cell_type": "code",
   "execution_count": 1,
   "metadata": {},
   "outputs": [
    {
     "name": "stdout",
     "output_type": "stream",
     "text": [
      "Tensorflow version:  2.1.0\n"
     ]
    }
   ],
   "source": [
    "import matplotlib.pyplot as plt\n",
    "import tensorflow as tf\n",
    "import numpy as np\n",
    "import os \n",
    "print(\"Tensorflow version: \", tf.__version__)"
   ]
  },
  {
   "cell_type": "markdown",
   "metadata": {},
   "source": [
    "## 2.1 Loading MNIST dataset"
   ]
  },
  {
   "cell_type": "code",
   "execution_count": 2,
   "metadata": {},
   "outputs": [
    {
     "name": "stdout",
     "output_type": "stream",
     "text": [
      "=======> Number of training images:  50000 .Shape:  (50000, 28, 28, 1)\n",
      "=======> Number of validation images:  10000 .Shape:  (10000, 28, 28, 1)\n",
      "=======> Number of testing images:  10000 .Shape:  (10000, 28, 28, 1)\n"
     ]
    }
   ],
   "source": [
    "mnist = tf.keras.datasets.mnist \n",
    "\n",
    "(x_train, y_train), (x_test, y_test) = mnist.load_data()\n",
    "# Reshape and normalize\n",
    "x_train = x_train.reshape(x_train.shape[0], 28, 28, 1) / 255.0\n",
    "x_test = x_test.reshape(x_test.shape[0], 28, 28, 1) / 255.0\n",
    "# Split training data to train and validation data\n",
    "x_val = x_train[50000:]\n",
    "y_val = y_train[50000:]\n",
    "x_train = x_train[:50000]\n",
    "y_train = y_train[:50000]\n",
    "print(\"=======> Number of training images: \", x_train.shape[0], \".Shape: \", x_train.shape)\n",
    "print(\"=======> Number of validation images: \", x_val.shape[0], \".Shape: \", x_val.shape)\n",
    "print(\"=======> Number of testing images: \", x_test.shape[0], \".Shape: \", x_test.shape)"
   ]
  },
  {
   "cell_type": "code",
   "execution_count": 3,
   "metadata": {},
   "outputs": [
    {
     "data": {
      "image/png": "[encoded data removed]",
      "text/plain": [
       "<Figure size 720x720 with 5 Axes>"
      ]
     },
     "metadata": {
      "needs_background": "light"
     },
     "output_type": "display_data"
    }
   ],
   "source": [
    "# Visualize data\n",
    "plt.figure(figsize=(10, 10))\n",
    "for i, image in enumerate(x_train[:5]):\n",
    "    plt.subplot(1, 5, i+1)\n",
    "    plt.imshow(image.reshape(28, 28))"
   ]
  },
  {
   "cell_type": "markdown",
   "metadata": {},
   "source": [
    "## 2.2 Building Keras Functional model"
   ]
  },
  {
   "cell_type": "code",
   "execution_count": 4,
   "metadata": {},
   "outputs": [],
   "source": [
    "# Import related packages\n",
    "from tensorflow.keras.layers import Input \n",
    "from tensorflow.keras.models import Model, load_model\n",
    "from tensorflow.keras.layers import Conv2D\n",
    "from tensorflow.keras.layers import Activation\n",
    "from tensorflow.keras.layers import Flatten\n",
    "from tensorflow.keras.layers import Dense\n",
    "from tensorflow.keras.layers import MaxPool2D\n",
    "from tensorflow.keras.applications.vgg16 import VGG16\n",
    "# Parameters\n",
    "CLASSES, H, W, D = 10, 28, 28, 1\n",
    "input_shape = (H, W, D)\n",
    "is_finetune = False #If set True, we should reshape data from (28,28,1) to (224,224,3) before training"
   ]
  },
  {
   "cell_type": "code",
   "execution_count": 5,
   "metadata": {},
   "outputs": [
    {
     "name": "stdout",
     "output_type": "stream",
     "text": [
      "Model: \"Functional_Keras_model_type\"\n",
      "_________________________________________________________________\n",
      "Layer (type)                 Output Shape              Param #   \n",
      "=================================================================\n",
      "input_1 (InputLayer)         [(None, 28, 28, 1)]       0         \n",
      "_________________________________________________________________\n",
      "C1 (Conv2D)                  (None, 26, 26, 32)        320       \n",
      "_________________________________________________________________\n",
      "P1 (MaxPooling2D)            (None, 13, 13, 32)        0         \n",
      "_________________________________________________________________\n",
      "Flatten (Flatten)            (None, 5408)              0         \n",
      "_________________________________________________________________\n",
      "F1 (Dense)                   (None, 128)               692352    \n",
      "_________________________________________________________________\n",
      "output (Dense)               (None, 10)                1290      \n",
      "=================================================================\n",
      "Total params: 693,962\n",
      "Trainable params: 693,962\n",
      "Non-trainable params: 0\n",
      "_________________________________________________________________\n"
     ]
    }
   ],
   "source": [
    "# Define model structure\n",
    "# Input \n",
    "if not is_finetune:\n",
    "    inputs = Input(shape=(28, 28, 1))\n",
    "    # C1 => Relu\n",
    "    x = Conv2D(filters=32, kernel_size=(3,3), strides=(1,1), activation='relu', padding='valid', name='C1')(inputs)\n",
    "    # P1 => Maxpooling \n",
    "    x = MaxPool2D(pool_size=(2,2), padding='valid', name='P1')(x)\n",
    "    # Flatten \n",
    "    x = Flatten(name='Flatten')(x)\n",
    "    # Full connected => Relu\n",
    "    x = Dense(units=128, activation='relu', name='F1')(x)\n",
    "    # Output softmax classification\n",
    "    x = Dense(units=10, activation='softmax', name='output')(x)\n",
    "    \"\"\" Create model \"\"\"\n",
    "    model = Model(inputs, x, name='Functional_Keras_model_type')\n",
    "    model.summary()\n",
    "else:\n",
    "    # Finetune from vgg16 model\n",
    "    inputs = Input(shape=(224, 224, 3))\n",
    "    model_vgg16 = VGG16(weights='imagenet', include_top=False)\n",
    "    output_vgg16 = model_vgg16(inputs)\n",
    "    x = Flatten(name='Flatten')(output_vgg16)\n",
    "    x = Dense(units=4096, activation='relu', name='fc1')(x)\n",
    "    x = Dense(units=4096, activation='relu', name='fc2')(x)\n",
    "    x = Dense(units=10, activation='softmax', name='output')(x)\n",
    "    \"\"\" Create model \"\"\"\n",
    "    model = Model(inputs, x, name='Functional_Keras_model_type')\n",
    "    model.summary()"
   ]
  },
  {
   "cell_type": "markdown",
   "metadata": {},
   "source": [
    "## 2.3 Training model"
   ]
  },
  {
   "cell_type": "code",
   "execution_count": 6,
   "metadata": {},
   "outputs": [],
   "source": [
    "from tensorflow.keras.optimizers import SGD\n",
    "from tensorflow.keras.callbacks import ModelCheckpoint\n",
    "# Hyperparameters \n",
    "LR = 1e-2\n",
    "BATCH_SIZE = 128\n",
    "NUM_EPOCHS = 2"
   ]
  },
  {
   "cell_type": "code",
   "execution_count": 7,
   "metadata": {},
   "outputs": [
    {
     "name": "stdout",
     "output_type": "stream",
     "text": [
      "Train on 50000 samples, validate on 10000 samples\n",
      "Epoch 1/2\n",
      "50000/50000 [==============================] - 15s 307us/sample - loss: 0.4532 - accuracy: 0.8689 - val_loss: 0.2154 - val_accuracy: 0.9406\n",
      "Epoch 2/2\n",
      "50000/50000 [==============================] - 14s 273us/sample - loss: 0.2138 - accuracy: 0.9371 - val_loss: 0.1862 - val_accuracy: 0.9468\n"
     ]
    }
   ],
   "source": [
    "# Initialize the optimizer and compile the model\n",
    "opt = SGD(lr=LR, momentum=0.9, decay=LR/NUM_EPOCHS)\n",
    "model.compile(loss=\"sparse_categorical_crossentropy\",\n",
    "             optimizer=opt,\n",
    "             metrics=[\"accuracy\"])\n",
    "# Save checkpoints \n",
    "if not os.path.exists('checkpoints'):\n",
    "    os.makedirs('checkpoints')\n",
    "filepath = \"checkpoints/CNN-{epoch:02d}.hdf5\"\n",
    "checkpoint = ModelCheckpoint(filepath, monitor=\"val_acc\", verbose=0,\n",
    "                             save_weight_only=False, save_best_only=False, mode='max')\n",
    "# Train model \n",
    "history = model.fit(x_train, y_train, epochs=NUM_EPOCHS, batch_size=BATCH_SIZE, \n",
    "                    validation_data = (x_val, y_val), verbose=1, callbacks=[checkpoint])\n",
    "\n",
    "# Save final model\n",
    "model.save('checkpoints/final_model.h5')"
   ]
  },
  {
   "cell_type": "code",
   "execution_count": 8,
   "metadata": {},
   "outputs": [
    {
     "name": "stdout",
     "output_type": "stream",
     "text": [
      "10000/10000 [==============================] - 1s 132us/sample - loss: 0.1890 - accuracy: 0.9443\n",
      "Test loss:  0.1889621825441718\n",
      "Test accuracy:  0.9443\n"
     ]
    }
   ],
   "source": [
    "# Test on testing data\n",
    "test_loss, test_acc = model.evaluate(x_test, y_test)\n",
    "print(\"Test loss: \", test_loss)\n",
    "print(\"Test accuracy: \", test_acc)"
   ]
  },
  {
   "cell_type": "markdown",
   "metadata": {},
   "source": [
    "## 2.4 Predicting model"
   ]
  },
  {
   "cell_type": "code",
   "execution_count": 9,
   "metadata": {},
   "outputs": [
    {
     "name": "stdout",
     "output_type": "stream",
     "text": [
      "Result shape:  (10000, 10)\n"
     ]
    }
   ],
   "source": [
    "result = model.predict(x_test)\n",
    "print(\"Result shape: \", result.shape)"
   ]
  },
  {
   "cell_type": "code",
   "execution_count": 10,
   "metadata": {},
   "outputs": [
    {
     "name": "stdout",
     "output_type": "stream",
     "text": [
      "True label:  1\n",
      "Predicted label:  1\n"
     ]
    },
    {
     "data": {
      "image/png": "[encoded data removed]",
      "text/plain": [
       "<Figure size 432x288 with 1 Axes>"
      ]
     },
     "metadata": {
      "needs_background": "light"
     },
     "output_type": "display_data"
    }
   ],
   "source": [
    "idx = 2\n",
    "print(\"True label: \", y_test[idx])\n",
    "print(\"Predicted label: \", np.argmax(result[idx]))\n",
    "plt.imshow(np.squeeze(x_test[idx]))\n",
    "plt.show()"
   ]
  },
  {
   "cell_type": "markdown",
   "metadata": {},
   "source": [
    "## 2.5 Loading saved model"
   ]
  },
  {
   "cell_type": "code",
   "execution_count": 11,
   "metadata": {},
   "outputs": [
    {
     "name": "stdout",
     "output_type": "stream",
     "text": [
      "Model: \"Functional_Keras_model_type\"\n",
      "_________________________________________________________________\n",
      "Layer (type)                 Output Shape              Param #   \n",
      "=================================================================\n",
      "input_1 (InputLayer)         [(None, 28, 28, 1)]       0         \n",
      "_________________________________________________________________\n",
      "C1 (Conv2D)                  (None, 26, 26, 32)        320       \n",
      "_________________________________________________________________\n",
      "P1 (MaxPooling2D)            (None, 13, 13, 32)        0         \n",
      "_________________________________________________________________\n",
      "Flatten (Flatten)            (None, 5408)              0         \n",
      "_________________________________________________________________\n",
      "F1 (Dense)                   (None, 128)               692352    \n",
      "_________________________________________________________________\n",
      "output (Dense)               (None, 10)                1290      \n",
      "=================================================================\n",
      "Total params: 693,962\n",
      "Trainable params: 693,962\n",
      "Non-trainable params: 0\n",
      "_________________________________________________________________\n"
     ]
    }
   ],
   "source": [
    "new_model = load_model('checkpoints/final_model.h5')\n",
    "new_model.summary()"
   ]
  },
  {
   "cell_type": "code",
   "execution_count": 12,
   "metadata": {},
   "outputs": [
    {
     "name": "stdout",
     "output_type": "stream",
     "text": [
      "10000/10000 [==============================] - 2s 152us/sample - loss: 0.1890 - accuracy: 0.9443\n",
      "Test loss:  0.1889621825441718\n",
      "Test accuracy:  0.9443\n"
     ]
    }
   ],
   "source": [
    "# Test on testing data\n",
    "test_loss, test_acc = new_model.evaluate(x_test, y_test)\n",
    "print(\"Test loss: \", test_loss)\n",
    "print(\"Test accuracy: \", test_acc)"
   ]
  },
  {
   "cell_type": "code",
   "execution_count": null,
   "metadata": {},
   "outputs": [],
   "source": []
  }
 ],
 "metadata": {
  "kernelspec": {
   "display_name": "Python 3",
   "language": "python",
   "name": "python3"
  },
  "language_info": {
   "codemirror_mode": {
    "name": "ipython",
    "version": 3
   },
   "file_extension": ".py",
   "mimetype": "text/x-python",
   "name": "python",
   "nbconvert_exporter": "python",
   "pygments_lexer": "ipython3",
   "version": "3.6.9"
  }
 },
 "nbformat": 4,
 "nbformat_minor": 4
}
