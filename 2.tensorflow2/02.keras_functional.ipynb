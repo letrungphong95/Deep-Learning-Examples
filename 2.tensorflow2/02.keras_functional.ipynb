{
 "cells": [
  {
   "cell_type": "markdown",
   "metadata": {},
   "source": [
    "# 02.Keras Functional of Tensorflow 2.1\n",
    "\n",
    "__author__ = \"Trung Phong Le\"<br>\n",
    "__email__ = \"letrungphong95@gmail.com\"<br>\n",
    "__startDate__ = \"19/01/2020\"<br>\n",
    "__version__ = \"0.0.1\"<br>\n",
    "__status__ = \"Being a Magical Dev\"\n",
    "__maintainer__ = \"Trung Phong Le\""
   ]
  },
  {
   "cell_type": "code",
   "execution_count": 1,
   "metadata": {},
   "outputs": [
    {
     "name": "stdout",
     "output_type": "stream",
     "text": [
      "Tensorflow version:  2.1.0\n"
     ]
    }
   ],
   "source": [
    "import matplotlib.pyplot as plt\n",
    "import tensorflow as tf\n",
    "import numpy as np\n",
    "print(\"Tensorflow version: \", tf.__version__)"
   ]
  },
  {
   "cell_type": "code",
   "execution_count": 10,
   "metadata": {},
   "outputs": [
    {
     "name": "stdout",
     "output_type": "stream",
     "text": [
      "=======> Number of training images:  50000 .Shape:  (50000, 28, 28, 1)\n",
      "=======> Number of validation images:  10000 .Shape:  (10000, 28, 28, 1)\n",
      "=======> Number of testing images:  10000 .Shape:  (10000, 28, 28, 1)\n"
     ]
    }
   ],
   "source": [
    "## 1.1 Loading MNIST dataset\n",
    "mnist = tf.keras.datasets.mnist \n",
    "\n",
    "(x_train, y_train), (x_test, y_test) = mnist.load_data()\n",
    "# Reshape and normalize\n",
    "x_train = x_train.reshape(x_train.shape[0], 28, 28, 1) / 255.0\n",
    "x_test = x_test.reshape(x_test.shape[0], 28, 28, 1) / 255.0\n",
    "# Split training data to train and validation data\n",
    "x_val = x_train[50000:]\n",
    "y_val = y_train[50000:]\n",
    "x_train = x_train[:50000]\n",
    "y_train = y_train[:50000]\n",
    "print(\"=======> Number of training images: \", x_train.shape[0], \".Shape: \", x_train.shape)\n",
    "print(\"=======> Number of validation images: \", x_val.shape[0], \".Shape: \", x_val.shape)\n",
    "print(\"=======> Number of testing images: \", x_test.shape[0], \".Shape: \", x_test.shape)"
   ]
  },
  {
   "cell_type": "code",
   "execution_count": 12,
   "metadata": {},
   "outputs": [
    {
     "data": {
      "image/png": "[encoded data removed]",
      "text/plain": [
       "<Figure size 720x720 with 5 Axes>"
      ]
     },
     "metadata": {
      "needs_background": "light"
     },
     "output_type": "display_data"
    }
   ],
   "source": [
    "# Visualize data\n",
    "plt.figure(figsize=(10, 10))\n",
    "for i, image in enumerate(x_train[:5]):\n",
    "    plt.subplot(1, 5, i+1)\n",
    "    plt.imshow(image.reshape(28, 28))"
   ]
  },
  {
   "cell_type": "code",
   "execution_count": null,
   "metadata": {},
   "outputs": [],
   "source": []
  },
  {
   "cell_type": "code",
   "execution_count": null,
   "metadata": {},
   "outputs": [],
   "source": []
  },
  {
   "cell_type": "code",
   "execution_count": null,
   "metadata": {},
   "outputs": [],
   "source": []
  },
  {
   "cell_type": "code",
   "execution_count": null,
   "metadata": {},
   "outputs": [],
   "source": []
  },
  {
   "cell_type": "code",
   "execution_count": null,
   "metadata": {},
   "outputs": [],
   "source": []
  }
 ],
 "metadata": {
  "kernelspec": {
   "display_name": "Python 3",
   "language": "python",
   "name": "python3"
  },
  "language_info": {
   "codemirror_mode": {
    "name": "ipython",
    "version": 3
   },
   "file_extension": ".py",
   "mimetype": "text/x-python",
   "name": "python",
   "nbconvert_exporter": "python",
   "pygments_lexer": "ipython3",
   "version": "3.6.9"
  }
 },
 "nbformat": 4,
 "nbformat_minor": 4
}
