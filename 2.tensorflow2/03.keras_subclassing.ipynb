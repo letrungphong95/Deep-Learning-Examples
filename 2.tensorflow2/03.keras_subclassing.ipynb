{
 "cells": [
  {
   "cell_type": "markdown",
   "metadata": {},
   "source": [
    "# 03.Keras Subclassing of Tensorflow 2.1\n",
    "\n",
    "__author__ = \"Trung Phong Le\"<br>\n",
    "__email__ = \"letrungphong95@gmail.com\"<br>\n",
    "__startDate__ = \"15/02/2020\"<br>\n",
    "__version__ = \"0.0.1\"<br>\n",
    "__status__ = \"Being a Magical Dev\"<br>\n",
    "__maintainer__ = \"Trung Phong Le\""
   ]
  },
  {
   "cell_type": "code",
   "execution_count": 1,
   "metadata": {},
   "outputs": [
    {
     "name": "stdout",
     "output_type": "stream",
     "text": [
      "Tensorflow version:  2.1.0\n"
     ]
    }
   ],
   "source": [
    "import matplotlib.pyplot as plt \n",
    "import tensorflow as tf\n",
    "import numpy as np\n",
    "import os \n",
    "print('Tensorflow version: ', tf.__version__)"
   ]
  },
  {
   "cell_type": "markdown",
   "metadata": {},
   "source": [
    "## 3.1 Loading MNIST dataset"
   ]
  },
  {
   "cell_type": "code",
   "execution_count": 2,
   "metadata": {},
   "outputs": [
    {
     "name": "stdout",
     "output_type": "stream",
     "text": [
      "=======> Number of training images:  50000 .Shape:  (50000, 28, 28, 1)\n",
      "=======> Number of validation images:  10000 .Shape:  (10000, 28, 28, 1)\n",
      "=======> Number of testing images:  10000 .Shape:  (10000, 28, 28, 1)\n"
     ]
    }
   ],
   "source": [
    "mnist = tf.keras.datasets.mnist\n",
    "\n",
    "(x_train, y_train), (x_test, y_test) = mnist.load_data()\n",
    "# Reshape and normalize \n",
    "x_train = x_train.reshape(x_train.shape[0], 28, 28, 1) / 255.0\n",
    "x_test = x_test.reshape(x_test.shape[0], 28, 28, 1) / 255.0\n",
    "# Split training data to train and validation data \n",
    "x_val = x_train[50000:]\n",
    "y_val = y_train[50000:]\n",
    "x_train = x_train[:50000]\n",
    "y_train = y_train[:50000]\n",
    "print(\"=======> Number of training images: \", x_train.shape[0], \".Shape: \", x_train.shape)\n",
    "print(\"=======> Number of validation images: \", x_val.shape[0], \".Shape: \", x_val.shape)\n",
    "print(\"=======> Number of testing images: \", x_test.shape[0], \".Shape: \", x_test.shape)"
   ]
  },
  {
   "cell_type": "code",
   "execution_count": 3,
   "metadata": {},
   "outputs": [
    {
     "data": {
      "image/png": "[encoded data removed]",
      "text/plain": [
       "<Figure size 720x720 with 5 Axes>"
      ]
     },
     "metadata": {
      "needs_background": "light"
     },
     "output_type": "display_data"
    }
   ],
   "source": [
    "# Visualize data\n",
    "plt.figure(figsize=(10, 10))\n",
    "for i, image in enumerate(x_train[:5]):\n",
    "    plt.subplot(1, 5, i+1)\n",
    "    plt.imshow(image.reshape(28, 28))"
   ]
  },
  {
   "cell_type": "markdown",
   "metadata": {},
   "source": [
    "## 3.2 Building Keras Subclassing model"
   ]
  },
  {
   "cell_type": "code",
   "execution_count": 4,
   "metadata": {},
   "outputs": [],
   "source": [
    "from tensorflow.keras.models import Model, model_from_json\n",
    "from tensorflow.keras.layers import Conv2D\n",
    "from tensorflow.keras.layers import Flatten\n",
    "from tensorflow.keras.layers import Dense\n",
    "from tensorflow.keras.layers import MaxPool2D"
   ]
  },
  {
   "cell_type": "code",
   "execution_count": 5,
   "metadata": {},
   "outputs": [],
   "source": [
    "class SimpleModel(Model):\n",
    "    def __init__(self, num_classes):\n",
    "        # call the parent constructor\n",
    "        super(SimpleModel, self).__init__()\n",
    "        \n",
    "        # Initialize the layer\n",
    "        self.conv1 = Conv2D(filters=32, kernel_size=(3,3), strides=(1,1), activation='relu')\n",
    "        self.pool1 = MaxPool2D(pool_size=(2,2), padding='valid')\n",
    "        self.flatten = Flatten()\n",
    "        self.dense = Dense(units=128, activation='relu')\n",
    "        self.out = Dense(units=num_classes, activation='softmax')\n",
    "    \n",
    "    def call(self, inputs):\n",
    "        # Build the model\n",
    "        x = self.conv1(inputs)\n",
    "        x = self.pool1(x)\n",
    "        x = self.flatten(x)\n",
    "        x = self.dense(x)\n",
    "        x = self.out(x)\n",
    "        return x"
   ]
  },
  {
   "cell_type": "code",
   "execution_count": 6,
   "metadata": {},
   "outputs": [
    {
     "name": "stdout",
     "output_type": "stream",
     "text": [
      "Model: \"simple_model\"\n",
      "_________________________________________________________________\n",
      "Layer (type)                 Output Shape              Param #   \n",
      "=================================================================\n",
      "conv2d (Conv2D)              multiple                  320       \n",
      "_________________________________________________________________\n",
      "max_pooling2d (MaxPooling2D) multiple                  0         \n",
      "_________________________________________________________________\n",
      "flatten (Flatten)            multiple                  0         \n",
      "_________________________________________________________________\n",
      "dense (Dense)                multiple                  692352    \n",
      "_________________________________________________________________\n",
      "dense_1 (Dense)              multiple                  1290      \n",
      "=================================================================\n",
      "Total params: 693,962\n",
      "Trainable params: 693,962\n",
      "Non-trainable params: 0\n",
      "_________________________________________________________________\n"
     ]
    }
   ],
   "source": [
    "model = SimpleModel(10)\n",
    "model.build((None, 28, 28, 1))\n",
    "model.summary()"
   ]
  },
  {
   "cell_type": "markdown",
   "metadata": {},
   "source": [
    "## 3.3 Training model"
   ]
  },
  {
   "cell_type": "code",
   "execution_count": 7,
   "metadata": {},
   "outputs": [],
   "source": [
    "from tensorflow.keras.optimizers import SGD\n",
    "from tensorflow.keras.callbacks import ModelCheckpoint\n",
    "# Hyperparameters \n",
    "LR = 1e-2\n",
    "BATCH_SIZE = 128\n",
    "NUM_EPOCHS = 2"
   ]
  },
  {
   "cell_type": "code",
   "execution_count": 8,
   "metadata": {},
   "outputs": [
    {
     "name": "stdout",
     "output_type": "stream",
     "text": [
      "Train on 50000 samples, validate on 10000 samples\n",
      "Epoch 1/2\n",
      "50000/50000 [==============================] - 16s 314us/sample - loss: 0.4531 - accuracy: 0.8682 - val_loss: 0.2493 - val_accuracy: 0.9270\n",
      "Epoch 2/2\n",
      "50000/50000 [==============================] - 17s 345us/sample - loss: 0.2256 - accuracy: 0.9328 - val_loss: 0.1873 - val_accuracy: 0.9467\n"
     ]
    }
   ],
   "source": [
    "# Initialize the optimizer and compile the model\n",
    "opt = SGD(lr=LR, momentum=0.9, decay=LR/NUM_EPOCHS)\n",
    "model.compile(loss=\"sparse_categorical_crossentropy\",\n",
    "             optimizer=opt,\n",
    "             metrics=[\"accuracy\"])\n",
    "# Save checkpoints \n",
    "if not os.path.exists('checkpoints'):\n",
    "    os.makedirs('checkpoints')\n",
    "filepath = \"checkpoints/CNN-{epoch:02d}.hdf5\"\n",
    "checkpoint = ModelCheckpoint(filepath, monitor=\"val_acc\", verbose=0,\n",
    "                             save_weight_only=False, save_best_only=False, mode='max')\n",
    "# Train model \n",
    "history = model.fit(x_train, y_train, epochs=NUM_EPOCHS, batch_size=BATCH_SIZE, \n",
    "                    validation_data = (x_val, y_val), verbose=1, callbacks=[checkpoint])\n",
    "\n",
    "# Save final model weights\n",
    "model.save_weights('checkpoints/final_model.h5')"
   ]
  },
  {
   "cell_type": "code",
   "execution_count": 9,
   "metadata": {},
   "outputs": [
    {
     "name": "stdout",
     "output_type": "stream",
     "text": [
      "10000/10000 [==============================] - 2s 222us/sample - loss: 0.1918 - accuracy: 0.9445\n",
      "Test loss:  0.19183600734323264\n",
      "Test accuracy:  0.9445\n"
     ]
    }
   ],
   "source": [
    "# Test on testing data\n",
    "test_loss, test_acc = model.evaluate(x_test, y_test)\n",
    "print(\"Test loss: \", test_loss)\n",
    "print(\"Test accuracy: \", test_acc)"
   ]
  },
  {
   "cell_type": "markdown",
   "metadata": {},
   "source": [
    "## 3.4 Predicting model"
   ]
  },
  {
   "cell_type": "code",
   "execution_count": 10,
   "metadata": {},
   "outputs": [
    {
     "name": "stdout",
     "output_type": "stream",
     "text": [
      "Result shape:  (10000, 10)\n"
     ]
    }
   ],
   "source": [
    "result = model.predict(x_test)\n",
    "print(\"Result shape: \", result.shape)"
   ]
  },
  {
   "cell_type": "code",
   "execution_count": 11,
   "metadata": {},
   "outputs": [
    {
     "name": "stdout",
     "output_type": "stream",
     "text": [
      "True label:  1\n",
      "Predicted label:  1\n"
     ]
    },
    {
     "data": {
      "image/png": "[encoded data removed]",
      "text/plain": [
       "<Figure size 432x288 with 1 Axes>"
      ]
     },
     "metadata": {
      "needs_background": "light"
     },
     "output_type": "display_data"
    }
   ],
   "source": [
    "idx = 5\n",
    "print(\"True label: \", y_test[idx])\n",
    "print(\"Predicted label: \", np.argmax(result[idx]))\n",
    "plt.imshow(np.squeeze(x_test[idx]))\n",
    "plt.show()"
   ]
  },
  {
   "cell_type": "markdown",
   "metadata": {},
   "source": [
    "## 3.5 Loading saved model"
   ]
  },
  {
   "cell_type": "code",
   "execution_count": 12,
   "metadata": {},
   "outputs": [
    {
     "name": "stdout",
     "output_type": "stream",
     "text": [
      "Model: \"simple_model_1\"\n",
      "_________________________________________________________________\n",
      "Layer (type)                 Output Shape              Param #   \n",
      "=================================================================\n",
      "conv2d_1 (Conv2D)            multiple                  320       \n",
      "_________________________________________________________________\n",
      "max_pooling2d_1 (MaxPooling2 multiple                  0         \n",
      "_________________________________________________________________\n",
      "flatten_1 (Flatten)          multiple                  0         \n",
      "_________________________________________________________________\n",
      "dense_2 (Dense)              multiple                  692352    \n",
      "_________________________________________________________________\n",
      "dense_3 (Dense)              multiple                  1290      \n",
      "=================================================================\n",
      "Total params: 693,962\n",
      "Trainable params: 693,962\n",
      "Non-trainable params: 0\n",
      "_________________________________________________________________\n",
      "Loaded model from disk\n"
     ]
    }
   ],
   "source": [
    "new_model = SimpleModel(10)\n",
    "new_model.build((None, 28, 28, 1))\n",
    "new_model.summary()\n",
    "# load weights into new model\n",
    "new_model.load_weights('checkpoints/final_model.h5')\n",
    "print(\"Loaded model from disk\")\n",
    "new_model.compile(loss=\"sparse_categorical_crossentropy\",\n",
    "             optimizer=\"sgd\",\n",
    "             metrics=[\"accuracy\"])"
   ]
  },
  {
   "cell_type": "code",
   "execution_count": 13,
   "metadata": {},
   "outputs": [
    {
     "name": "stdout",
     "output_type": "stream",
     "text": [
      "10000/10000 [==============================] - 2s 172us/sample - loss: 0.1918 - accuracy: 0.9445\n",
      "Test loss:  0.19183600734323264\n",
      "Test accuracy:  0.9445\n"
     ]
    }
   ],
   "source": [
    "# Test on testing data\n",
    "test_loss, test_acc = new_model.evaluate(x_test, y_test)\n",
    "print(\"Test loss: \", test_loss)\n",
    "print(\"Test accuracy: \", test_acc)"
   ]
  },
  {
   "cell_type": "code",
   "execution_count": null,
   "metadata": {},
   "outputs": [],
   "source": []
  }
 ],
 "metadata": {
  "kernelspec": {
   "display_name": "Python 3",
   "language": "python",
   "name": "python3"
  },
  "language_info": {
   "codemirror_mode": {
    "name": "ipython",
    "version": 3
   },
   "file_extension": ".py",
   "mimetype": "text/x-python",
   "name": "python",
   "nbconvert_exporter": "python",
   "pygments_lexer": "ipython3",
   "version": "3.6.8"
  }
 },
 "nbformat": 4,
 "nbformat_minor": 4
}
