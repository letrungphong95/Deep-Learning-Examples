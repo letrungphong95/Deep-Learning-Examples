{
 "cells": [
  {
   "cell_type": "markdown",
   "metadata": {},
   "source": [
    "# 01.Tensorflow Estimator of Tensorflow v1\n",
    "__author__ = \"Trung Phong Le\"<br>\n",
    "__email__ = \"letrungphong95@gmail.com\"<br>\n",
    "__startDate__ = \"19/02/2020\"<br>\n",
    "__version__ = \"0.0.1\"<br>\n",
    "__status__ = \"Being a Magical Dev\"<br>\n",
    "__maintainer__ = \"Trung Phong Le\"\n",
    "\n",
    "\n",
    "Ref:<br> \n",
    "https://github.com/aymericdamien/TensorFlow-Examples<br>\n",
    "https://towardsdatascience.com/first-contact-with-tensorflow-estimator-69a5e072998d<br>"
   ]
  },
  {
   "cell_type": "code",
   "execution_count": 1,
   "metadata": {},
   "outputs": [
    {
     "name": "stdout",
     "output_type": "stream",
     "text": [
      "Tensorflow version:  1.14.0\n"
     ]
    }
   ],
   "source": [
    "import matplotlib.pyplot as plt\n",
    "import tensorflow as tf\n",
    "import numpy as np\n",
    "import os\n",
    "print(\"Tensorflow version: \", tf.__version__)"
   ]
  },
  {
   "cell_type": "markdown",
   "metadata": {},
   "source": [
    "## 1.1 Loading MNIST dataset"
   ]
  },
  {
   "cell_type": "code",
   "execution_count": 2,
   "metadata": {},
   "outputs": [],
   "source": [
    "mnist = tf.keras.datasets.mnist\n",
    "\n",
    "(x_train, y_train), (x_test, y_test) = mnist.load_data()\n",
    "# Reshape and normalize \n",
    "# x_train = x_train.reshape(x_train.shape[0], 28, 28, 1) / 255.0\n",
    "# x_test = x_test.reshape(x_test.shape[0], 28, 28, 1) / 255.0\n",
    "x_train = x_train.reshape(x_train.shape[0], 784) / 255.0\n",
    "x_test = x_test.reshape(x_test.shape[0], 784) / 255.0\n",
    "# # Split training data to train and validation data \n",
    "x_val = x_train[50000:]\n",
    "y_val = y_train[50000:]\n",
    "x_train = x_train[:50000]\n",
    "y_train = y_train[:50000]\n",
    "print(\"=======> Number of training images: \", x_train.shape[0], \".Shape: \", x_train.shape)\n",
    "print(\"=======> Number of validation images: \", x_val.shape[0], \".Shape: \", x_val.shape)\n",
    "print(\"=======> Number of testing images: \", x_test.shape[0], \".Shape: \", x_test.shape)"
   ]
  },
  {
   "cell_type": "markdown",
   "metadata": {},
   "source": [
    "## 1.2 Building Tensorflow estimator model"
   ]
  },
  {
   "cell_type": "code",
   "execution_count": 3,
   "metadata": {},
   "outputs": [],
   "source": [
    "def convolution_network(x, classes, is_reuse):\n",
    "    \"\"\" TODO: Updating\n",
    "    \"\"\"\n",
    "    with tf.variable_scope('ConvolutionNet', reuse=is_reuse):\n",
    "        # Input \n",
    "        x = tf.reshape(x, shape=[-1, 28, 28, 1])\n",
    "        # Convolution 1\n",
    "        conv1 = tf.layers.conv2d(inputs=x, filters=32, kernel_size=(3, 3), activation=tf.nn.relu, \n",
    "                                 strides=(1, 1), padding='valid', name='C1')\n",
    "        conv1 = tf.layers.max_pooling2d(inputs=conv1, pool_size=(2, 2), strides=(1, 1),\n",
    "                                        padding='valid', name='P1')\n",
    "        # Flatten\n",
    "        flatten = tf.contrib.layers.flatten(inputs=conv1)\n",
    "        # Full connected\n",
    "        fc1 = tf.layers.dense(inputs=flatten, units=128, activation=tf.nn.relu, name='F1')\n",
    "        # Output softmax classification\n",
    "        out = tf.layers.dense(inputs=fc1, units=classes)\n",
    "    return out "
   ]
  },
  {
   "cell_type": "code",
   "execution_count": 4,
   "metadata": {},
   "outputs": [
    {
     "name": "stdout",
     "output_type": "stream",
     "text": [
      "INFO:tensorflow:Using default config.\n",
      "INFO:tensorflow:Using config: {'_model_dir': 'checkpoint', '_tf_random_seed': None, '_save_summary_steps': 100, '_save_checkpoints_steps': None, '_save_checkpoints_secs': 600, '_session_config': allow_soft_placement: true\n",
      "graph_options {\n",
      "  rewrite_options {\n",
      "    meta_optimizer_iterations: ONE\n",
      "  }\n",
      "}\n",
      ", '_keep_checkpoint_max': 5, '_keep_checkpoint_every_n_hours': 10000, '_log_step_count_steps': 100, '_train_distribute': None, '_device_fn': None, '_protocol': None, '_eval_distribute': None, '_experimental_distribute': None, '_experimental_max_worker_delay_secs': None, '_service': None, '_cluster_spec': <tensorflow.python.training.server_lib.ClusterSpec object at 0x7f25718dd978>, '_task_type': 'worker', '_task_id': 0, '_global_id_in_cluster': 0, '_master': '', '_evaluation_master': '', '_is_chief': True, '_num_ps_replicas': 0, '_num_worker_replicas': 1}\n"
     ]
    }
   ],
   "source": [
    "def model_fn(features, labels, mode):\n",
    "    \"\"\" TODO: Updating\n",
    "    \"\"\"\n",
    "    # Build Network\n",
    "    pred_logits = convolution_network(x=features, classes=n_classes, is_reuse=False)\n",
    "    # Predictions \n",
    "    pred_classes = tf.argmax(pred_logits, axis=1)\n",
    "    pred_probas = tf.nn.softmax(pred_logits)\n",
    "    # Check if train or test \n",
    "    if mode == tf.estimator.ModeKeys.PREDICT:\n",
    "        return tf.estimator.EstimatorSpec(mode, predictions=pred_classes)\n",
    "    # Define loss and optimizer for training \n",
    "    loss_op = tf.reduce_mean(tf.nn.sparse_softmax_cross_entropy_with_logits(\n",
    "        logits=pred_logits, labels=tf.cast(labels, dtype=tf.int32)\n",
    "    ))\n",
    "    tf.summary.scalar('loss', loss_op)\n",
    "    # Evaluation accuracy\n",
    "    acc_op = tf.metrics.accuracy(labels=labels, predictions=pred_classes, name='acc')\n",
    "    tf.summary.scalar('accuracy', acc_op[1])\n",
    "    # Evaluation\n",
    "    if mode == tf.estimator.ModeKeys.EVAL:\n",
    "        return tf.estimator.EstimatorSpec(\n",
    "            mode=mode, \n",
    "            loss=loss_op,\n",
    "            eval_metric_ops={'accuracy/eval': acc_op},\n",
    "            evaluation_hooks=None,\n",
    "        )\n",
    "    # Optimizer\n",
    "    optimizer = tf.train.AdamOptimizer(learning_rate=learning_rate)\n",
    "    train_op = optimizer.minimize(loss_op, global_step=tf.train.get_global_step())\n",
    "    # Visualize in cmd\n",
    "    train_hook_list = []\n",
    "    train_tensors_log = {'accuracy': acc_op[1],\n",
    "                         'loss': loss_op}\n",
    "    train_hook_list.append(tf.train.LoggingTensorHook(\n",
    "        tensors=train_tensors_log, every_n_iter=100))\n",
    "    # Define estimator model\n",
    "    estimator_specs = tf.estimator.EstimatorSpec(\n",
    "        mode=mode,\n",
    "        predictions=pred_classes,\n",
    "        loss=loss_op,\n",
    "        train_op = train_op,\n",
    "        eval_metric_ops={'accuracy':acc_op},\n",
    "        training_hooks=train_hook_list\n",
    "    )\n",
    "    return estimator_specs\n",
    "\n",
    "model = tf.estimator.Estimator(model_fn, model_dir='checkpoint')"
   ]
  },
  {
   "cell_type": "markdown",
   "metadata": {},
   "source": [
    "## 1.3 Training model"
   ]
  },
  {
   "cell_type": "code",
   "execution_count": 7,
   "metadata": {},
   "outputs": [],
   "source": [
    "batch_size = 32\n",
    "num_steps = 2\n",
    "n_classes = 10\n",
    "learning_rate = 0.001\n",
    "train_input_fn = tf.estimator.inputs.numpy_input_fn(\n",
    "    x=x_train, y=y_train, batch_size=batch_size, shuffle=True\n",
    ")\n",
    "val_input_fn = tf.estimator.inputs.numpy_input_fn(\n",
    "    x=x_val, y=y_val, batch_size=batch_size, shuffle=False\n",
    ")"
   ]
  },
  {
   "cell_type": "code",
   "execution_count": 8,
   "metadata": {},
   "outputs": [
    {
     "name": "stdout",
     "output_type": "stream",
     "text": [
      "INFO:tensorflow:Calling model_fn.\n",
      "WARNING:tensorflow:Entity <bound method Conv.call of <tensorflow.python.layers.convolutional.Conv2D object at 0x7f256e4f0d68>> could not be transformed and will be executed as-is. Please report this to the AutgoGraph team. When filing the bug, set the verbosity to 10 (on Linux, `export AUTOGRAPH_VERBOSITY=10`) and attach the full output. Cause: converting <bound method Conv.call of <tensorflow.python.layers.convolutional.Conv2D object at 0x7f256e4f0d68>>: AssertionError: Bad argument number for Name: 3, expecting 4\n",
      "WARNING: Entity <bound method Conv.call of <tensorflow.python.layers.convolutional.Conv2D object at 0x7f256e4f0d68>> could not be transformed and will be executed as-is. Please report this to the AutgoGraph team. When filing the bug, set the verbosity to 10 (on Linux, `export AUTOGRAPH_VERBOSITY=10`) and attach the full output. Cause: converting <bound method Conv.call of <tensorflow.python.layers.convolutional.Conv2D object at 0x7f256e4f0d68>>: AssertionError: Bad argument number for Name: 3, expecting 4\n",
      "WARNING:tensorflow:Entity <bound method Pooling2D.call of <tensorflow.python.layers.pooling.MaxPooling2D object at 0x7f256e4f0d68>> could not be transformed and will be executed as-is. Please report this to the AutgoGraph team. When filing the bug, set the verbosity to 10 (on Linux, `export AUTOGRAPH_VERBOSITY=10`) and attach the full output. Cause: converting <bound method Pooling2D.call of <tensorflow.python.layers.pooling.MaxPooling2D object at 0x7f256e4f0d68>>: AssertionError: Bad argument number for Name: 3, expecting 4\n",
      "WARNING: Entity <bound method Pooling2D.call of <tensorflow.python.layers.pooling.MaxPooling2D object at 0x7f256e4f0d68>> could not be transformed and will be executed as-is. Please report this to the AutgoGraph team. When filing the bug, set the verbosity to 10 (on Linux, `export AUTOGRAPH_VERBOSITY=10`) and attach the full output. Cause: converting <bound method Pooling2D.call of <tensorflow.python.layers.pooling.MaxPooling2D object at 0x7f256e4f0d68>>: AssertionError: Bad argument number for Name: 3, expecting 4\n",
      "WARNING:tensorflow:Entity <bound method Flatten.call of <tensorflow.python.layers.core.Flatten object at 0x7f25541f28d0>> could not be transformed and will be executed as-is. Please report this to the AutgoGraph team. When filing the bug, set the verbosity to 10 (on Linux, `export AUTOGRAPH_VERBOSITY=10`) and attach the full output. Cause: converting <bound method Flatten.call of <tensorflow.python.layers.core.Flatten object at 0x7f25541f28d0>>: AttributeError: module 'gast' has no attribute 'Num'\n",
      "WARNING: Entity <bound method Flatten.call of <tensorflow.python.layers.core.Flatten object at 0x7f25541f28d0>> could not be transformed and will be executed as-is. Please report this to the AutgoGraph team. When filing the bug, set the verbosity to 10 (on Linux, `export AUTOGRAPH_VERBOSITY=10`) and attach the full output. Cause: converting <bound method Flatten.call of <tensorflow.python.layers.core.Flatten object at 0x7f25541f28d0>>: AttributeError: module 'gast' has no attribute 'Num'\n",
      "WARNING:tensorflow:Entity <bound method Dense.call of <tensorflow.python.layers.core.Dense object at 0x7f256e4f0d68>> could not be transformed and will be executed as-is. Please report this to the AutgoGraph team. When filing the bug, set the verbosity to 10 (on Linux, `export AUTOGRAPH_VERBOSITY=10`) and attach the full output. Cause: converting <bound method Dense.call of <tensorflow.python.layers.core.Dense object at 0x7f256e4f0d68>>: AssertionError: Bad argument number for Name: 3, expecting 4\n",
      "WARNING: Entity <bound method Dense.call of <tensorflow.python.layers.core.Dense object at 0x7f256e4f0d68>> could not be transformed and will be executed as-is. Please report this to the AutgoGraph team. When filing the bug, set the verbosity to 10 (on Linux, `export AUTOGRAPH_VERBOSITY=10`) and attach the full output. Cause: converting <bound method Dense.call of <tensorflow.python.layers.core.Dense object at 0x7f256e4f0d68>>: AssertionError: Bad argument number for Name: 3, expecting 4\n",
      "WARNING:tensorflow:Entity <bound method Dense.call of <tensorflow.python.layers.core.Dense object at 0x7f256e4f0d68>> could not be transformed and will be executed as-is. Please report this to the AutgoGraph team. When filing the bug, set the verbosity to 10 (on Linux, `export AUTOGRAPH_VERBOSITY=10`) and attach the full output. Cause: converting <bound method Dense.call of <tensorflow.python.layers.core.Dense object at 0x7f256e4f0d68>>: AssertionError: Bad argument number for Name: 3, expecting 4\n",
      "WARNING: Entity <bound method Dense.call of <tensorflow.python.layers.core.Dense object at 0x7f256e4f0d68>> could not be transformed and will be executed as-is. Please report this to the AutgoGraph team. When filing the bug, set the verbosity to 10 (on Linux, `export AUTOGRAPH_VERBOSITY=10`) and attach the full output. Cause: converting <bound method Dense.call of <tensorflow.python.layers.core.Dense object at 0x7f256e4f0d68>>: AssertionError: Bad argument number for Name: 3, expecting 4\n",
      "INFO:tensorflow:Done calling model_fn.\n",
      "INFO:tensorflow:Create CheckpointSaverHook.\n",
      "INFO:tensorflow:Graph was finalized.\n",
      "INFO:tensorflow:Running local_init_op.\n",
      "INFO:tensorflow:Done running local_init_op.\n",
      "INFO:tensorflow:Saving checkpoints for 0 into checkpoint/model.ckpt.\n",
      "INFO:tensorflow:loss = 2.310034343482256, step = 1\n",
      "INFO:tensorflow:accuracy = 0.0625, loss = 2.310034343482256\n",
      "INFO:tensorflow:global_step/sec: 33.5238\n",
      "INFO:tensorflow:loss = 0.21817331706586082, step = 101 (2.984 sec)\n",
      "INFO:tensorflow:accuracy = 0.5, loss = 0.21817331706586082 (2.984 sec)\n",
      "INFO:tensorflow:global_step/sec: 37.0087\n",
      "INFO:tensorflow:loss = 0.22913961538588512, step = 201 (2.702 sec)\n",
      "INFO:tensorflow:accuracy = 0.65625, loss = 0.22913961538588512 (2.702 sec)\n",
      "INFO:tensorflow:global_step/sec: 36.7927\n",
      "INFO:tensorflow:loss = 0.41517474364687135, step = 301 (2.718 sec)\n",
      "INFO:tensorflow:accuracy = 0.7265625, loss = 0.41517474364687135 (2.718 sec)\n",
      "INFO:tensorflow:global_step/sec: 35.8165\n",
      "INFO:tensorflow:loss = 0.02052408270553148, step = 401 (2.792 sec)\n",
      "INFO:tensorflow:accuracy = 0.78125, loss = 0.02052408270553148 (2.792 sec)\n",
      "INFO:tensorflow:global_step/sec: 35.1475\n",
      "INFO:tensorflow:loss = 0.005654322618277144, step = 501 (2.845 sec)\n",
      "INFO:tensorflow:accuracy = 0.8177083, loss = 0.005654322618277144 (2.845 sec)\n",
      "INFO:tensorflow:global_step/sec: 37.4567\n",
      "INFO:tensorflow:loss = 0.11443778957413697, step = 601 (2.670 sec)\n",
      "INFO:tensorflow:accuracy = 0.83928573, loss = 0.11443778957413697 (2.670 sec)\n",
      "INFO:tensorflow:global_step/sec: 36.4547\n",
      "INFO:tensorflow:loss = 0.15389350596005685, step = 701 (2.743 sec)\n",
      "INFO:tensorflow:accuracy = 0.8515625, loss = 0.15389350596005685 (2.743 sec)\n",
      "INFO:tensorflow:global_step/sec: 26.7819\n",
      "INFO:tensorflow:loss = 0.10241989197290154, step = 801 (3.735 sec)\n",
      "INFO:tensorflow:accuracy = 0.8576389, loss = 0.10241989197290154 (3.735 sec)\n",
      "INFO:tensorflow:global_step/sec: 30.4625\n",
      "INFO:tensorflow:loss = 0.05466324709704702, step = 901 (3.282 sec)\n",
      "INFO:tensorflow:accuracy = 0.86875, loss = 0.05466324709704702 (3.282 sec)\n",
      "INFO:tensorflow:global_step/sec: 28.2068\n",
      "INFO:tensorflow:loss = 0.10638557278088508, step = 1001 (3.545 sec)\n",
      "INFO:tensorflow:accuracy = 0.875, loss = 0.10638557278088508 (3.545 sec)\n",
      "INFO:tensorflow:global_step/sec: 28.7556\n",
      "INFO:tensorflow:loss = 0.034524287877674226, step = 1101 (3.478 sec)\n",
      "INFO:tensorflow:accuracy = 0.8828125, loss = 0.034524287877674226 (3.478 sec)\n",
      "INFO:tensorflow:global_step/sec: 28.7845\n",
      "INFO:tensorflow:loss = 0.04609458127299624, step = 1201 (3.474 sec)\n",
      "INFO:tensorflow:accuracy = 0.8918269, loss = 0.04609458127299624 (3.474 sec)\n",
      "INFO:tensorflow:global_step/sec: 31.9008\n",
      "INFO:tensorflow:loss = 0.13941650757218765, step = 1301 (3.136 sec)\n",
      "INFO:tensorflow:accuracy = 0.89508927, loss = 0.13941650757218765 (3.135 sec)\n",
      "INFO:tensorflow:global_step/sec: 30.4316\n",
      "INFO:tensorflow:loss = 0.1395869350646852, step = 1401 (3.287 sec)\n",
      "INFO:tensorflow:accuracy = 0.9, loss = 0.1395869350646852 (3.287 sec)\n",
      "INFO:tensorflow:global_step/sec: 31.0316\n",
      "INFO:tensorflow:loss = 0.12540055071535505, step = 1501 (3.221 sec)\n",
      "INFO:tensorflow:accuracy = 0.9042969, loss = 0.12540055071535505 (3.224 sec)\n"
     ]
    },
    {
     "name": "stdout",
     "output_type": "stream",
     "text": [
      "INFO:tensorflow:global_step/sec: 31.3596\n",
      "INFO:tensorflow:loss = 0.07214597483727853, step = 1601 (3.189 sec)\n",
      "INFO:tensorflow:accuracy = 0.9080882, loss = 0.07214597483727853 (3.186 sec)\n",
      "INFO:tensorflow:global_step/sec: 33.2281\n",
      "INFO:tensorflow:loss = 0.009610303089004726, step = 1701 (3.010 sec)\n",
      "INFO:tensorflow:accuracy = 0.9131944, loss = 0.009610303089004726 (3.010 sec)\n",
      "INFO:tensorflow:global_step/sec: 33.0812\n",
      "INFO:tensorflow:loss = 0.03709095187749602, step = 1801 (3.023 sec)\n",
      "INFO:tensorflow:accuracy = 0.9177632, loss = 0.03709095187749602 (3.022 sec)\n",
      "INFO:tensorflow:Saving checkpoints for 1875 into checkpoint/model.ckpt.\n",
      "INFO:tensorflow:Loss for final step: 0.11231381615223181.\n",
      "INFO:tensorflow:Calling model_fn.\n",
      "WARNING:tensorflow:Entity <bound method Conv.call of <tensorflow.python.layers.convolutional.Conv2D object at 0x7f256e556dd8>> could not be transformed and will be executed as-is. Please report this to the AutgoGraph team. When filing the bug, set the verbosity to 10 (on Linux, `export AUTOGRAPH_VERBOSITY=10`) and attach the full output. Cause: converting <bound method Conv.call of <tensorflow.python.layers.convolutional.Conv2D object at 0x7f256e556dd8>>: AssertionError: Bad argument number for Name: 3, expecting 4\n",
      "WARNING: Entity <bound method Conv.call of <tensorflow.python.layers.convolutional.Conv2D object at 0x7f256e556dd8>> could not be transformed and will be executed as-is. Please report this to the AutgoGraph team. When filing the bug, set the verbosity to 10 (on Linux, `export AUTOGRAPH_VERBOSITY=10`) and attach the full output. Cause: converting <bound method Conv.call of <tensorflow.python.layers.convolutional.Conv2D object at 0x7f256e556dd8>>: AssertionError: Bad argument number for Name: 3, expecting 4\n",
      "WARNING:tensorflow:Entity <bound method Pooling2D.call of <tensorflow.python.layers.pooling.MaxPooling2D object at 0x7f256e556dd8>> could not be transformed and will be executed as-is. Please report this to the AutgoGraph team. When filing the bug, set the verbosity to 10 (on Linux, `export AUTOGRAPH_VERBOSITY=10`) and attach the full output. Cause: converting <bound method Pooling2D.call of <tensorflow.python.layers.pooling.MaxPooling2D object at 0x7f256e556dd8>>: AssertionError: Bad argument number for Name: 3, expecting 4\n",
      "WARNING: Entity <bound method Pooling2D.call of <tensorflow.python.layers.pooling.MaxPooling2D object at 0x7f256e556dd8>> could not be transformed and will be executed as-is. Please report this to the AutgoGraph team. When filing the bug, set the verbosity to 10 (on Linux, `export AUTOGRAPH_VERBOSITY=10`) and attach the full output. Cause: converting <bound method Pooling2D.call of <tensorflow.python.layers.pooling.MaxPooling2D object at 0x7f256e556dd8>>: AssertionError: Bad argument number for Name: 3, expecting 4\n",
      "WARNING:tensorflow:Entity <bound method Flatten.call of <tensorflow.python.layers.core.Flatten object at 0x7f2585019e10>> could not be transformed and will be executed as-is. Please report this to the AutgoGraph team. When filing the bug, set the verbosity to 10 (on Linux, `export AUTOGRAPH_VERBOSITY=10`) and attach the full output. Cause: converting <bound method Flatten.call of <tensorflow.python.layers.core.Flatten object at 0x7f2585019e10>>: AttributeError: module 'gast' has no attribute 'Num'\n",
      "WARNING: Entity <bound method Flatten.call of <tensorflow.python.layers.core.Flatten object at 0x7f2585019e10>> could not be transformed and will be executed as-is. Please report this to the AutgoGraph team. When filing the bug, set the verbosity to 10 (on Linux, `export AUTOGRAPH_VERBOSITY=10`) and attach the full output. Cause: converting <bound method Flatten.call of <tensorflow.python.layers.core.Flatten object at 0x7f2585019e10>>: AttributeError: module 'gast' has no attribute 'Num'\n",
      "WARNING:tensorflow:Entity <bound method Dense.call of <tensorflow.python.layers.core.Dense object at 0x7f256e556dd8>> could not be transformed and will be executed as-is. Please report this to the AutgoGraph team. When filing the bug, set the verbosity to 10 (on Linux, `export AUTOGRAPH_VERBOSITY=10`) and attach the full output. Cause: converting <bound method Dense.call of <tensorflow.python.layers.core.Dense object at 0x7f256e556dd8>>: AssertionError: Bad argument number for Name: 3, expecting 4\n",
      "WARNING: Entity <bound method Dense.call of <tensorflow.python.layers.core.Dense object at 0x7f256e556dd8>> could not be transformed and will be executed as-is. Please report this to the AutgoGraph team. When filing the bug, set the verbosity to 10 (on Linux, `export AUTOGRAPH_VERBOSITY=10`) and attach the full output. Cause: converting <bound method Dense.call of <tensorflow.python.layers.core.Dense object at 0x7f256e556dd8>>: AssertionError: Bad argument number for Name: 3, expecting 4\n",
      "WARNING:tensorflow:Entity <bound method Dense.call of <tensorflow.python.layers.core.Dense object at 0x7f2570fdee48>> could not be transformed and will be executed as-is. Please report this to the AutgoGraph team. When filing the bug, set the verbosity to 10 (on Linux, `export AUTOGRAPH_VERBOSITY=10`) and attach the full output. Cause: converting <bound method Dense.call of <tensorflow.python.layers.core.Dense object at 0x7f2570fdee48>>: AssertionError: Bad argument number for Name: 3, expecting 4\n",
      "WARNING: Entity <bound method Dense.call of <tensorflow.python.layers.core.Dense object at 0x7f2570fdee48>> could not be transformed and will be executed as-is. Please report this to the AutgoGraph team. When filing the bug, set the verbosity to 10 (on Linux, `export AUTOGRAPH_VERBOSITY=10`) and attach the full output. Cause: converting <bound method Dense.call of <tensorflow.python.layers.core.Dense object at 0x7f2570fdee48>>: AssertionError: Bad argument number for Name: 3, expecting 4\n",
      "INFO:tensorflow:Done calling model_fn.\n",
      "INFO:tensorflow:Starting evaluation at 2020-03-02T14:53:06Z\n",
      "INFO:tensorflow:Graph was finalized.\n",
      "INFO:tensorflow:Restoring parameters from checkpoint/model.ckpt-1875\n",
      "INFO:tensorflow:Running local_init_op.\n",
      "INFO:tensorflow:Done running local_init_op.\n",
      "INFO:tensorflow:Finished evaluation at 2020-03-02-14:53:08\n",
      "INFO:tensorflow:Saving dict for global step 1875: accuracy/eval = 0.9828, global_step = 1875, loss = 0.05317876\n",
      "INFO:tensorflow:Saving 'checkpoint_path' summary for global step 1875: checkpoint/model.ckpt-1875\n",
      "INFO:tensorflow:Calling model_fn.\n",
      "WARNING:tensorflow:Entity <bound method Conv.call of <tensorflow.python.layers.convolutional.Conv2D object at 0x7f2584eed4e0>> could not be transformed and will be executed as-is. Please report this to the AutgoGraph team. When filing the bug, set the verbosity to 10 (on Linux, `export AUTOGRAPH_VERBOSITY=10`) and attach the full output. Cause: converting <bound method Conv.call of <tensorflow.python.layers.convolutional.Conv2D object at 0x7f2584eed4e0>>: AssertionError: Bad argument number for Name: 3, expecting 4\n",
      "WARNING: Entity <bound method Conv.call of <tensorflow.python.layers.convolutional.Conv2D object at 0x7f2584eed4e0>> could not be transformed and will be executed as-is. Please report this to the AutgoGraph team. When filing the bug, set the verbosity to 10 (on Linux, `export AUTOGRAPH_VERBOSITY=10`) and attach the full output. Cause: converting <bound method Conv.call of <tensorflow.python.layers.convolutional.Conv2D object at 0x7f2584eed4e0>>: AssertionError: Bad argument number for Name: 3, expecting 4\n",
      "WARNING:tensorflow:Entity <bound method Pooling2D.call of <tensorflow.python.layers.pooling.MaxPooling2D object at 0x7f2584f58fd0>> could not be transformed and will be executed as-is. Please report this to the AutgoGraph team. When filing the bug, set the verbosity to 10 (on Linux, `export AUTOGRAPH_VERBOSITY=10`) and attach the full output. Cause: converting <bound method Pooling2D.call of <tensorflow.python.layers.pooling.MaxPooling2D object at 0x7f2584f58fd0>>: AssertionError: Bad argument number for Name: 3, expecting 4\n",
      "WARNING: Entity <bound method Pooling2D.call of <tensorflow.python.layers.pooling.MaxPooling2D object at 0x7f2584f58fd0>> could not be transformed and will be executed as-is. Please report this to the AutgoGraph team. When filing the bug, set the verbosity to 10 (on Linux, `export AUTOGRAPH_VERBOSITY=10`) and attach the full output. Cause: converting <bound method Pooling2D.call of <tensorflow.python.layers.pooling.MaxPooling2D object at 0x7f2584f58fd0>>: AssertionError: Bad argument number for Name: 3, expecting 4\n",
      "WARNING:tensorflow:Entity <bound method Flatten.call of <tensorflow.python.layers.core.Flatten object at 0x7f2571069a90>> could not be transformed and will be executed as-is. Please report this to the AutgoGraph team. When filing the bug, set the verbosity to 10 (on Linux, `export AUTOGRAPH_VERBOSITY=10`) and attach the full output. Cause: converting <bound method Flatten.call of <tensorflow.python.layers.core.Flatten object at 0x7f2571069a90>>: AttributeError: module 'gast' has no attribute 'Num'\n"
     ]
    },
    {
     "name": "stdout",
     "output_type": "stream",
     "text": [
      "WARNING: Entity <bound method Flatten.call of <tensorflow.python.layers.core.Flatten object at 0x7f2571069a90>> could not be transformed and will be executed as-is. Please report this to the AutgoGraph team. When filing the bug, set the verbosity to 10 (on Linux, `export AUTOGRAPH_VERBOSITY=10`) and attach the full output. Cause: converting <bound method Flatten.call of <tensorflow.python.layers.core.Flatten object at 0x7f2571069a90>>: AttributeError: module 'gast' has no attribute 'Num'\n",
      "WARNING:tensorflow:Entity <bound method Dense.call of <tensorflow.python.layers.core.Dense object at 0x7f2584f58fd0>> could not be transformed and will be executed as-is. Please report this to the AutgoGraph team. When filing the bug, set the verbosity to 10 (on Linux, `export AUTOGRAPH_VERBOSITY=10`) and attach the full output. Cause: converting <bound method Dense.call of <tensorflow.python.layers.core.Dense object at 0x7f2584f58fd0>>: AssertionError: Bad argument number for Name: 3, expecting 4\n",
      "WARNING: Entity <bound method Dense.call of <tensorflow.python.layers.core.Dense object at 0x7f2584f58fd0>> could not be transformed and will be executed as-is. Please report this to the AutgoGraph team. When filing the bug, set the verbosity to 10 (on Linux, `export AUTOGRAPH_VERBOSITY=10`) and attach the full output. Cause: converting <bound method Dense.call of <tensorflow.python.layers.core.Dense object at 0x7f2584f58fd0>>: AssertionError: Bad argument number for Name: 3, expecting 4\n",
      "WARNING:tensorflow:Entity <bound method Dense.call of <tensorflow.python.layers.core.Dense object at 0x7f2584f58fd0>> could not be transformed and will be executed as-is. Please report this to the AutgoGraph team. When filing the bug, set the verbosity to 10 (on Linux, `export AUTOGRAPH_VERBOSITY=10`) and attach the full output. Cause: converting <bound method Dense.call of <tensorflow.python.layers.core.Dense object at 0x7f2584f58fd0>>: AssertionError: Bad argument number for Name: 3, expecting 4\n",
      "WARNING: Entity <bound method Dense.call of <tensorflow.python.layers.core.Dense object at 0x7f2584f58fd0>> could not be transformed and will be executed as-is. Please report this to the AutgoGraph team. When filing the bug, set the verbosity to 10 (on Linux, `export AUTOGRAPH_VERBOSITY=10`) and attach the full output. Cause: converting <bound method Dense.call of <tensorflow.python.layers.core.Dense object at 0x7f2584f58fd0>>: AssertionError: Bad argument number for Name: 3, expecting 4\n",
      "INFO:tensorflow:Done calling model_fn.\n",
      "INFO:tensorflow:Create CheckpointSaverHook.\n",
      "INFO:tensorflow:Graph was finalized.\n",
      "INFO:tensorflow:Restoring parameters from checkpoint/model.ckpt-1875\n",
      "WARNING:tensorflow:From /home/phongtl/Workspace/Deep-Learning-Examples/venv/lib/python3.6/site-packages/tensorflow/python/training/saver.py:1066: get_checkpoint_mtimes (from tensorflow.python.training.checkpoint_management) is deprecated and will be removed in a future version.\n",
      "Instructions for updating:\n",
      "Use standard file utilities to get mtimes.\n",
      "INFO:tensorflow:Running local_init_op.\n",
      "INFO:tensorflow:Done running local_init_op.\n",
      "INFO:tensorflow:Saving checkpoints for 1875 into checkpoint/model.ckpt.\n",
      "INFO:tensorflow:loss = 0.0034974407979126033, step = 1876\n",
      "INFO:tensorflow:accuracy = 1.0, loss = 0.0034974407979126033\n",
      "INFO:tensorflow:global_step/sec: 32.7215\n",
      "INFO:tensorflow:loss = 0.00168683015487204, step = 1976 (3.057 sec)\n",
      "INFO:tensorflow:accuracy = 1.0, loss = 0.00168683015487204 (3.056 sec)\n",
      "INFO:tensorflow:global_step/sec: 32.7947\n",
      "INFO:tensorflow:loss = 0.003557848934829048, step = 2076 (3.050 sec)\n",
      "INFO:tensorflow:accuracy = 1.0, loss = 0.003557848934829048 (3.052 sec)\n",
      "INFO:tensorflow:global_step/sec: 34.0586\n",
      "INFO:tensorflow:loss = 0.0035046042225406306, step = 2176 (2.937 sec)\n",
      "INFO:tensorflow:accuracy = 1.0, loss = 0.0035046042225406306 (2.936 sec)\n",
      "INFO:tensorflow:global_step/sec: 37.8015\n",
      "INFO:tensorflow:loss = 0.010377141077763035, step = 2276 (2.643 sec)\n",
      "INFO:tensorflow:accuracy = 1.0, loss = 0.010377141077763035 (2.643 sec)\n",
      "INFO:tensorflow:global_step/sec: 37.9214\n",
      "INFO:tensorflow:loss = 0.0958773837953541, step = 2376 (2.637 sec)\n",
      "INFO:tensorflow:accuracy = 0.9947917, loss = 0.0958773837953541 (2.637 sec)\n",
      "INFO:tensorflow:global_step/sec: 35.95\n",
      "INFO:tensorflow:loss = 0.024886157481426485, step = 2476 (2.782 sec)\n",
      "INFO:tensorflow:accuracy = 0.99553573, loss = 0.024886157481426485 (2.782 sec)\n",
      "INFO:tensorflow:global_step/sec: 34.4685\n",
      "INFO:tensorflow:loss = 0.009041189620979936, step = 2576 (2.901 sec)\n",
      "INFO:tensorflow:accuracy = 0.99609375, loss = 0.009041189620979936 (2.901 sec)\n",
      "INFO:tensorflow:global_step/sec: 32.551\n",
      "INFO:tensorflow:loss = 0.0006885124123666433, step = 2676 (3.072 sec)\n",
      "INFO:tensorflow:accuracy = 0.9965278, loss = 0.0006885124123666433 (3.072 sec)\n",
      "INFO:tensorflow:global_step/sec: 37.1559\n",
      "INFO:tensorflow:loss = 0.05884371843134949, step = 2776 (2.692 sec)\n",
      "INFO:tensorflow:accuracy = 0.99375, loss = 0.05884371843134949 (2.692 sec)\n",
      "INFO:tensorflow:global_step/sec: 33.349\n",
      "INFO:tensorflow:loss = 0.04327359757939655, step = 2876 (2.998 sec)\n",
      "INFO:tensorflow:accuracy = 0.99147725, loss = 0.04327359757939655 (2.998 sec)\n",
      "INFO:tensorflow:global_step/sec: 36.192\n",
      "INFO:tensorflow:loss = 0.014198715897352724, step = 2976 (2.764 sec)\n",
      "INFO:tensorflow:accuracy = 0.9921875, loss = 0.014198715897352724 (2.765 sec)\n",
      "INFO:tensorflow:global_step/sec: 32.562\n",
      "INFO:tensorflow:loss = 0.06332489338470655, step = 3076 (3.071 sec)\n",
      "INFO:tensorflow:accuracy = 0.99038464, loss = 0.06332489338470655 (3.071 sec)\n",
      "INFO:tensorflow:global_step/sec: 33.2186\n",
      "INFO:tensorflow:loss = 0.006088417847592643, step = 3176 (3.011 sec)\n",
      "INFO:tensorflow:accuracy = 0.9910714, loss = 0.006088417847592643 (3.011 sec)\n",
      "INFO:tensorflow:global_step/sec: 35.6036\n",
      "INFO:tensorflow:loss = 0.08298737964266875, step = 3276 (2.808 sec)\n",
      "INFO:tensorflow:accuracy = 0.9895833, loss = 0.08298737964266875 (2.808 sec)\n",
      "INFO:tensorflow:global_step/sec: 32.9423\n",
      "INFO:tensorflow:loss = 0.04189134191689055, step = 3376 (3.035 sec)\n",
      "INFO:tensorflow:accuracy = 0.98828125, loss = 0.04189134191689055 (3.037 sec)\n",
      "INFO:tensorflow:global_step/sec: 30.0018\n",
      "INFO:tensorflow:loss = 0.007719782080497379, step = 3476 (3.333 sec)\n",
      "INFO:tensorflow:accuracy = 0.9889706, loss = 0.007719782080497379 (3.331 sec)\n",
      "INFO:tensorflow:global_step/sec: 36.5753\n",
      "INFO:tensorflow:loss = 0.01301686864067575, step = 3576 (2.734 sec)\n",
      "INFO:tensorflow:accuracy = 0.9895833, loss = 0.01301686864067575 (2.734 sec)\n",
      "INFO:tensorflow:global_step/sec: 32.2399\n",
      "INFO:tensorflow:loss = 0.0071933081626749575, step = 3676 (3.103 sec)\n",
      "INFO:tensorflow:accuracy = 0.99013156, loss = 0.0071933081626749575 (3.103 sec)\n",
      "INFO:tensorflow:Saving checkpoints for 3750 into checkpoint/model.ckpt.\n",
      "INFO:tensorflow:Loss for final step: 0.016983456089633465.\n",
      "INFO:tensorflow:Calling model_fn.\n",
      "WARNING:tensorflow:Entity <bound method Conv.call of <tensorflow.python.layers.convolutional.Conv2D object at 0x7f2584f22550>> could not be transformed and will be executed as-is. Please report this to the AutgoGraph team. When filing the bug, set the verbosity to 10 (on Linux, `export AUTOGRAPH_VERBOSITY=10`) and attach the full output. Cause: converting <bound method Conv.call of <tensorflow.python.layers.convolutional.Conv2D object at 0x7f2584f22550>>: AssertionError: Bad argument number for Name: 3, expecting 4\n",
      "WARNING: Entity <bound method Conv.call of <tensorflow.python.layers.convolutional.Conv2D object at 0x7f2584f22550>> could not be transformed and will be executed as-is. Please report this to the AutgoGraph team. When filing the bug, set the verbosity to 10 (on Linux, `export AUTOGRAPH_VERBOSITY=10`) and attach the full output. Cause: converting <bound method Conv.call of <tensorflow.python.layers.convolutional.Conv2D object at 0x7f2584f22550>>: AssertionError: Bad argument number for Name: 3, expecting 4\n",
      "WARNING:tensorflow:Entity <bound method Pooling2D.call of <tensorflow.python.layers.pooling.MaxPooling2D object at 0x7f2584f22550>> could not be transformed and will be executed as-is. Please report this to the AutgoGraph team. When filing the bug, set the verbosity to 10 (on Linux, `export AUTOGRAPH_VERBOSITY=10`) and attach the full output. Cause: converting <bound method Pooling2D.call of <tensorflow.python.layers.pooling.MaxPooling2D object at 0x7f2584f22550>>: AssertionError: Bad argument number for Name: 3, expecting 4\n"
     ]
    },
    {
     "name": "stdout",
     "output_type": "stream",
     "text": [
      "WARNING: Entity <bound method Pooling2D.call of <tensorflow.python.layers.pooling.MaxPooling2D object at 0x7f2584f22550>> could not be transformed and will be executed as-is. Please report this to the AutgoGraph team. When filing the bug, set the verbosity to 10 (on Linux, `export AUTOGRAPH_VERBOSITY=10`) and attach the full output. Cause: converting <bound method Pooling2D.call of <tensorflow.python.layers.pooling.MaxPooling2D object at 0x7f2584f22550>>: AssertionError: Bad argument number for Name: 3, expecting 4\n",
      "WARNING:tensorflow:Entity <bound method Flatten.call of <tensorflow.python.layers.core.Flatten object at 0x7f258505b9b0>> could not be transformed and will be executed as-is. Please report this to the AutgoGraph team. When filing the bug, set the verbosity to 10 (on Linux, `export AUTOGRAPH_VERBOSITY=10`) and attach the full output. Cause: converting <bound method Flatten.call of <tensorflow.python.layers.core.Flatten object at 0x7f258505b9b0>>: AttributeError: module 'gast' has no attribute 'Num'\n",
      "WARNING: Entity <bound method Flatten.call of <tensorflow.python.layers.core.Flatten object at 0x7f258505b9b0>> could not be transformed and will be executed as-is. Please report this to the AutgoGraph team. When filing the bug, set the verbosity to 10 (on Linux, `export AUTOGRAPH_VERBOSITY=10`) and attach the full output. Cause: converting <bound method Flatten.call of <tensorflow.python.layers.core.Flatten object at 0x7f258505b9b0>>: AttributeError: module 'gast' has no attribute 'Num'\n",
      "WARNING:tensorflow:Entity <bound method Dense.call of <tensorflow.python.layers.core.Dense object at 0x7f2584f22550>> could not be transformed and will be executed as-is. Please report this to the AutgoGraph team. When filing the bug, set the verbosity to 10 (on Linux, `export AUTOGRAPH_VERBOSITY=10`) and attach the full output. Cause: converting <bound method Dense.call of <tensorflow.python.layers.core.Dense object at 0x7f2584f22550>>: AssertionError: Bad argument number for Name: 3, expecting 4\n",
      "WARNING: Entity <bound method Dense.call of <tensorflow.python.layers.core.Dense object at 0x7f2584f22550>> could not be transformed and will be executed as-is. Please report this to the AutgoGraph team. When filing the bug, set the verbosity to 10 (on Linux, `export AUTOGRAPH_VERBOSITY=10`) and attach the full output. Cause: converting <bound method Dense.call of <tensorflow.python.layers.core.Dense object at 0x7f2584f22550>>: AssertionError: Bad argument number for Name: 3, expecting 4\n",
      "WARNING:tensorflow:Entity <bound method Dense.call of <tensorflow.python.layers.core.Dense object at 0x7f2584f22550>> could not be transformed and will be executed as-is. Please report this to the AutgoGraph team. When filing the bug, set the verbosity to 10 (on Linux, `export AUTOGRAPH_VERBOSITY=10`) and attach the full output. Cause: converting <bound method Dense.call of <tensorflow.python.layers.core.Dense object at 0x7f2584f22550>>: AssertionError: Bad argument number for Name: 3, expecting 4\n",
      "WARNING: Entity <bound method Dense.call of <tensorflow.python.layers.core.Dense object at 0x7f2584f22550>> could not be transformed and will be executed as-is. Please report this to the AutgoGraph team. When filing the bug, set the verbosity to 10 (on Linux, `export AUTOGRAPH_VERBOSITY=10`) and attach the full output. Cause: converting <bound method Dense.call of <tensorflow.python.layers.core.Dense object at 0x7f2584f22550>>: AssertionError: Bad argument number for Name: 3, expecting 4\n",
      "INFO:tensorflow:Done calling model_fn.\n",
      "INFO:tensorflow:Starting evaluation at 2020-03-02T14:54:04Z\n",
      "INFO:tensorflow:Graph was finalized.\n",
      "INFO:tensorflow:Restoring parameters from checkpoint/model.ckpt-3750\n",
      "INFO:tensorflow:Running local_init_op.\n",
      "INFO:tensorflow:Done running local_init_op.\n",
      "INFO:tensorflow:Finished evaluation at 2020-03-02-14:54:07\n",
      "INFO:tensorflow:Saving dict for global step 3750: accuracy/eval = 0.9846, global_step = 3750, loss = 0.050776556\n",
      "INFO:tensorflow:Saving 'checkpoint_path' summary for global step 3750: checkpoint/model.ckpt-3750\n"
     ]
    }
   ],
   "source": [
    "# Train Model\n",
    "# model.train(train_input_fn, steps=num_steps)\n",
    "for temporal_index in range(num_steps):\n",
    "    model.train(input_fn=train_input_fn)\n",
    "    result_eval = model.evaluate(input_fn=val_input_fn)"
   ]
  },
  {
   "cell_type": "markdown",
   "metadata": {},
   "source": [
    "## 1.4 Predicting model"
   ]
  },
  {
   "cell_type": "code",
   "execution_count": 7,
   "metadata": {},
   "outputs": [],
   "source": [
    "test_input_fn = tf.estimator.inputs.numpy_input_fn(\n",
    "    x=x_test, y=y_test, batch_size=batch_size, shuffle=False\n",
    ")"
   ]
  },
  {
   "cell_type": "code",
   "execution_count": 8,
   "metadata": {
    "scrolled": true
   },
   "outputs": [
    {
     "name": "stdout",
     "output_type": "stream",
     "text": [
      "INFO:tensorflow:Calling model_fn.\n",
      "WARNING:tensorflow:Entity <bound method Conv.call of <tensorflow.python.layers.convolutional.Conv2D object at 0x7f5402b9bb70>> could not be transformed and will be executed as-is. Please report this to the AutgoGraph team. When filing the bug, set the verbosity to 10 (on Linux, `export AUTOGRAPH_VERBOSITY=10`) and attach the full output. Cause: converting <bound method Conv.call of <tensorflow.python.layers.convolutional.Conv2D object at 0x7f5402b9bb70>>: AssertionError: Bad argument number for Name: 3, expecting 4\n",
      "WARNING: Entity <bound method Conv.call of <tensorflow.python.layers.convolutional.Conv2D object at 0x7f5402b9bb70>> could not be transformed and will be executed as-is. Please report this to the AutgoGraph team. When filing the bug, set the verbosity to 10 (on Linux, `export AUTOGRAPH_VERBOSITY=10`) and attach the full output. Cause: converting <bound method Conv.call of <tensorflow.python.layers.convolutional.Conv2D object at 0x7f5402b9bb70>>: AssertionError: Bad argument number for Name: 3, expecting 4\n",
      "WARNING:tensorflow:Entity <bound method Pooling2D.call of <tensorflow.python.layers.pooling.MaxPooling2D object at 0x7f5402b9bb70>> could not be transformed and will be executed as-is. Please report this to the AutgoGraph team. When filing the bug, set the verbosity to 10 (on Linux, `export AUTOGRAPH_VERBOSITY=10`) and attach the full output. Cause: converting <bound method Pooling2D.call of <tensorflow.python.layers.pooling.MaxPooling2D object at 0x7f5402b9bb70>>: AssertionError: Bad argument number for Name: 3, expecting 4\n",
      "WARNING: Entity <bound method Pooling2D.call of <tensorflow.python.layers.pooling.MaxPooling2D object at 0x7f5402b9bb70>> could not be transformed and will be executed as-is. Please report this to the AutgoGraph team. When filing the bug, set the verbosity to 10 (on Linux, `export AUTOGRAPH_VERBOSITY=10`) and attach the full output. Cause: converting <bound method Pooling2D.call of <tensorflow.python.layers.pooling.MaxPooling2D object at 0x7f5402b9bb70>>: AssertionError: Bad argument number for Name: 3, expecting 4\n",
      "WARNING:tensorflow:Entity <bound method Flatten.call of <tensorflow.python.layers.core.Flatten object at 0x7f5402671c50>> could not be transformed and will be executed as-is. Please report this to the AutgoGraph team. When filing the bug, set the verbosity to 10 (on Linux, `export AUTOGRAPH_VERBOSITY=10`) and attach the full output. Cause: converting <bound method Flatten.call of <tensorflow.python.layers.core.Flatten object at 0x7f5402671c50>>: AttributeError: module 'gast' has no attribute 'Num'\n",
      "WARNING: Entity <bound method Flatten.call of <tensorflow.python.layers.core.Flatten object at 0x7f5402671c50>> could not be transformed and will be executed as-is. Please report this to the AutgoGraph team. When filing the bug, set the verbosity to 10 (on Linux, `export AUTOGRAPH_VERBOSITY=10`) and attach the full output. Cause: converting <bound method Flatten.call of <tensorflow.python.layers.core.Flatten object at 0x7f5402671c50>>: AttributeError: module 'gast' has no attribute 'Num'\n",
      "WARNING:tensorflow:Entity <bound method Dense.call of <tensorflow.python.layers.core.Dense object at 0x7f5402b9bb70>> could not be transformed and will be executed as-is. Please report this to the AutgoGraph team. When filing the bug, set the verbosity to 10 (on Linux, `export AUTOGRAPH_VERBOSITY=10`) and attach the full output. Cause: converting <bound method Dense.call of <tensorflow.python.layers.core.Dense object at 0x7f5402b9bb70>>: AssertionError: Bad argument number for Name: 3, expecting 4\n",
      "WARNING: Entity <bound method Dense.call of <tensorflow.python.layers.core.Dense object at 0x7f5402b9bb70>> could not be transformed and will be executed as-is. Please report this to the AutgoGraph team. When filing the bug, set the verbosity to 10 (on Linux, `export AUTOGRAPH_VERBOSITY=10`) and attach the full output. Cause: converting <bound method Dense.call of <tensorflow.python.layers.core.Dense object at 0x7f5402b9bb70>>: AssertionError: Bad argument number for Name: 3, expecting 4\n",
      "WARNING:tensorflow:Entity <bound method Dense.call of <tensorflow.python.layers.core.Dense object at 0x7f540514d4a8>> could not be transformed and will be executed as-is. Please report this to the AutgoGraph team. When filing the bug, set the verbosity to 10 (on Linux, `export AUTOGRAPH_VERBOSITY=10`) and attach the full output. Cause: converting <bound method Dense.call of <tensorflow.python.layers.core.Dense object at 0x7f540514d4a8>>: AssertionError: Bad argument number for Name: 3, expecting 4\n",
      "WARNING: Entity <bound method Dense.call of <tensorflow.python.layers.core.Dense object at 0x7f540514d4a8>> could not be transformed and will be executed as-is. Please report this to the AutgoGraph team. When filing the bug, set the verbosity to 10 (on Linux, `export AUTOGRAPH_VERBOSITY=10`) and attach the full output. Cause: converting <bound method Dense.call of <tensorflow.python.layers.core.Dense object at 0x7f540514d4a8>>: AssertionError: Bad argument number for Name: 3, expecting 4\n",
      "INFO:tensorflow:Done calling model_fn.\n",
      "INFO:tensorflow:Starting evaluation at 2020-03-02T12:00:48Z\n",
      "INFO:tensorflow:Graph was finalized.\n",
      "WARNING:tensorflow:From /home/phongtl/Workspace/Deep-Learning-Examples/venv/lib/python3.6/site-packages/tensorflow/python/training/saver.py:1276: checkpoint_exists (from tensorflow.python.training.checkpoint_management) is deprecated and will be removed in a future version.\n",
      "Instructions for updating:\n",
      "Use standard file APIs to check for files with this prefix.\n",
      "INFO:tensorflow:Restoring parameters from /tmp/tmppom82lph/model.ckpt-1000\n",
      "INFO:tensorflow:Running local_init_op.\n",
      "INFO:tensorflow:Done running local_init_op.\n",
      "INFO:tensorflow:Finished evaluation at 2020-03-02-12:00:51\n",
      "INFO:tensorflow:Saving dict for global step 1000: accuracy = 0.9781, global_step = 1000, loss = 0.06822193\n",
      "INFO:tensorflow:Saving 'checkpoint_path' summary for global step 1000: /tmp/tmppom82lph/model.ckpt-1000\n",
      "Accuracy:  0.9781\n"
     ]
    }
   ],
   "source": [
    "acc = model.evaluate(test_input_fn)\n",
    "print('Accuracy: ', acc['accuracy'])"
   ]
  },
  {
   "cell_type": "markdown",
   "metadata": {},
   "source": [
    "## 1.5 Loading saved model"
   ]
  },
  {
   "cell_type": "code",
   "execution_count": null,
   "metadata": {},
   "outputs": [],
   "source": []
  },
  {
   "cell_type": "code",
   "execution_count": null,
   "metadata": {},
   "outputs": [],
   "source": []
  }
 ],
 "metadata": {
  "kernelspec": {
   "display_name": "Python 3",
   "language": "python",
   "name": "python3"
  },
  "language_info": {
   "codemirror_mode": {
    "name": "ipython",
    "version": 3
   },
   "file_extension": ".py",
   "mimetype": "text/x-python",
   "name": "python",
   "nbconvert_exporter": "python",
   "pygments_lexer": "ipython3",
   "version": "3.6.8"
  }
 },
 "nbformat": 4,
 "nbformat_minor": 4
}
